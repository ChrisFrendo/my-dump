{
 "cells": [
  {
   "cell_type": "code",
   "execution_count": 120,
   "metadata": {
    "id": "ILC8B88PGVpi"
   },
   "outputs": [],
   "source": [
    "import pandas as pd\n",
    "import numpy as np\n",
    "from keras.layers import LSTM, Activation, Dropout, Dense, Input, Conv1D, MaxPooling1D, GlobalMaxPooling1D\n",
    "from keras.layers.embeddings import Embedding\n",
    "from keras.models import Model\n",
    "from keras.utils import np_utils\n",
    "import string\n",
    "import re\n",
    "from keras.preprocessing.text import Tokenizer\n",
    "from sklearn.preprocessing import LabelBinarizer\n",
    "from keras.preprocessing.sequence import pad_sequences\n",
    "import keras\n",
    "import emoji\n",
    "from sklearn.metrics import f1_score\n"
   ]
  },
  {
   "cell_type": "code",
   "execution_count": 99,
   "metadata": {},
   "outputs": [],
   "source": [
    "featFile = open('train_tweets_us_all.text', \"r\", encoding=\"utf-8\");\n",
    "labelFile = open('train_tweets_us_all.labels', \"r\", encoding=\"utf-8\");\n",
    "\n",
    "testFeat = open('us_test.text', \"r\", encoding=\"utf-8\");\n",
    "testLabel = open('us_test.labels', \"r\", encoding=\"utf-8\");\n",
    "\n",
    "validationFeat = open('us_trial.text', \"r\", encoding=\"utf-8\");\n",
    "validationLabel = open('us_trial.labels', \"r\", encoding=\"utf-8\");\n",
    "\n",
    "X_train = featFile.readlines();\n",
    "Y_train = labelFile.readlines();\n",
    "\n",
    "X_test = testFeat.readlines();\n",
    "Y_test = testLabel.readlines();\n",
    "\n",
    "X_valid = validationFeat.readlines();\n",
    "Y_valid = validationLabel.readlines();"
   ]
  },
  {
   "cell_type": "code",
   "execution_count": 100,
   "metadata": {
    "id": "ujoI8P64P12P"
   },
   "outputs": [],
   "source": [
    "tokenizer = Tokenizer(num_words=5000)\n",
    "tokenizer.fit_on_texts(X_train)\n",
    "words_to_index = tokenizer.word_index\n",
    "len(words_to_index)"
   ]
  },
  {
   "cell_type": "code",
   "execution_count": 103,
   "metadata": {
    "id": "4cfT3r4nc5GE"
   },
   "outputs": [],
   "source": [
    "def read_glove_vector(glove_vec):\n",
    "    with open(glove_vec, 'r', encoding='UTF-8') as f:\n",
    "        words = set()\n",
    "        word_to_vec_map = {}\n",
    "        for line in f:\n",
    "            w_line = line.split()\n",
    "            curr_word = w_line[0]\n",
    "            word_to_vec_map[curr_word] = np.array(w_line[1:], dtype=np.float64)\n",
    "\n",
    "\n",
    "    return word_to_vec_map\n",
    "    "
   ]
  },
  {
   "cell_type": "code",
   "execution_count": 104,
   "metadata": {
    "id": "S4QJe7iZeDC1"
   },
   "outputs": [],
   "source": [
    "word_to_vec_map = read_glove_vector('./glove.6B.50d.txt')"
   ]
  },
  {
   "cell_type": "code",
   "execution_count": 105,
   "metadata": {
    "id": "_VF9U14qjjXw"
   },
   "outputs": [],
   "source": [
    "maxLen = 50\n"
   ]
  },
  {
   "cell_type": "code",
   "execution_count": 106,
   "metadata": {
    "id": "Am3MZl2fobDn"
   },
   "outputs": [],
   "source": [
    "vocab_len = len(words_to_index)\n",
    "embed_vector_len = word_to_vec_map['moon'].shape[0]\n",
    "\n",
    "emb_matrix = np.zeros((vocab_len, embed_vector_len))\n",
    "\n",
    "for word, index in words_to_index.items():\n",
    "    embedding_vector = word_to_vec_map.get(word)\n",
    "    if embedding_vector is not None:\n",
    "        emb_matrix[index, :] = embedding_vector\n",
    "\n",
    "embedding_layer = Embedding(input_dim=vocab_len, output_dim=embed_vector_len, input_length=maxLen, weights = [emb_matrix], trainable=False)"
   ]
  },
  {
   "cell_type": "code",
   "execution_count": 107,
   "metadata": {
    "id": "DlqxRxizpZRl"
   },
   "outputs": [],
   "source": [
    "def lstm_model(input_shape):\n",
    "\n",
    "    X_indices = Input(input_shape)\n",
    "\n",
    "    embeddings = embedding_layer(X_indices)\n",
    "\n",
    "    X = LSTM(128, return_sequences=True)(embeddings)\n",
    "\n",
    "    X = Dropout(0.6)(X)\n",
    "\n",
    "    X = LSTM(128, return_sequences=True)(X)\n",
    "\n",
    "    X = Dropout(0.6)(X)\n",
    "\n",
    "    X = LSTM(128)(X)\n",
    "\n",
    "    X = Dense(20, activation='sigmoid')(X)\n",
    "\n",
    "    model = Model(inputs=X_indices, outputs=X)\n",
    "\n",
    "    return model"
   ]
  },
  {
   "cell_type": "code",
   "execution_count": 108,
   "metadata": {
    "colab": {
     "base_uri": "https://localhost:8080/"
    },
    "id": "PeB6unmRpa2a",
    "outputId": "6987ca2e-bef8-427a-8f49-e5344b472d97"
   },
   "outputs": [
    {
     "name": "stdout",
     "output_type": "stream",
     "text": [
      "Model: \"model_7\"\n",
      "_________________________________________________________________\n",
      "Layer (type)                 Output Shape              Param #   \n",
      "=================================================================\n",
      "input_12 (InputLayer)        [(None, 50)]              0         \n",
      "_________________________________________________________________\n",
      "embedding_1 (Embedding)      (None, 50, 50)            14871100  \n",
      "_________________________________________________________________\n",
      "lstm_8 (LSTM)                (None, 50, 128)           91648     \n",
      "_________________________________________________________________\n",
      "dropout_9 (Dropout)          (None, 50, 128)           0         \n",
      "_________________________________________________________________\n",
      "lstm_9 (LSTM)                (None, 50, 128)           131584    \n",
      "_________________________________________________________________\n",
      "dropout_10 (Dropout)         (None, 50, 128)           0         \n",
      "_________________________________________________________________\n",
      "lstm_10 (LSTM)               (None, 128)               131584    \n",
      "_________________________________________________________________\n",
      "dense_9 (Dense)              (None, 20)                2580      \n",
      "=================================================================\n",
      "Total params: 15,228,496\n",
      "Trainable params: 357,396\n",
      "Non-trainable params: 14,871,100\n",
      "_________________________________________________________________\n"
     ]
    }
   ],
   "source": [
    "model = lstm_model((maxLen,))\n",
    "model.summary()"
   ]
  },
  {
   "cell_type": "code",
   "execution_count": 109,
   "metadata": {
    "id": "Z_ygaA18uv9Z"
   },
   "outputs": [
    {
     "data": {
      "text/plain": [
       "(405987, 50)"
      ]
     },
     "execution_count": 109,
     "metadata": {},
     "output_type": "execute_result"
    }
   ],
   "source": [
    "X_train_indices = tokenizer.texts_to_sequences(X_train)\n",
    "X_train_indices = pad_sequences(X_train_indices, maxlen=maxLen, padding='post')\n",
    "X_train_indices.shape"
   ]
  },
  {
   "cell_type": "code",
   "execution_count": 111,
   "metadata": {},
   "outputs": [],
   "source": [
    "Y_train_int = np.array(list(map(int, Y_train)))\n",
    "Y_train_hot = np_utils.to_categorical(Y_train_int)"
   ]
  },
  {
   "cell_type": "code",
   "execution_count": 113,
   "metadata": {
    "id": "mwYyQk7_JvYg"
   },
   "outputs": [],
   "source": [
    "adam = keras.optimizers.Adam(learning_rate = 0.0001)\n",
    "model.compile(optimizer=adam, loss='categorical_crossentropy', metrics=['accuracy'])"
   ]
  },
  {
   "cell_type": "code",
   "execution_count": 115,
   "metadata": {
    "colab": {
     "base_uri": "https://localhost:8080/"
    },
    "id": "pZphzSinHwPO",
    "outputId": "baa9feb3-3f33-4a5d-da0d-f2ddfea4a475"
   },
   "outputs": [
    {
     "name": "stdout",
     "output_type": "stream",
     "text": [
      "793/793 [==============================] - 880s 1s/step - loss: 2.6009 - accuracy: 0.2418\n"
     ]
    },
    {
     "data": {
      "text/plain": [
       "<tensorflow.python.keras.callbacks.History at 0x21c04fc7b48>"
      ]
     },
     "execution_count": 115,
     "metadata": {},
     "output_type": "execute_result"
    }
   ],
   "source": [
    "model.fit(X_train_indices, Y_train_hot, batch_size=1024, epochs=1)"
   ]
  },
  {
   "cell_type": "code",
   "execution_count": 116,
   "metadata": {
    "id": "oVY1gYalXkO7"
   },
   "outputs": [],
   "source": [
    "X_test_indices = tokenizer.texts_to_sequences(X_test)\n",
    "X_test_indices = pad_sequences(X_test_indices, maxlen=maxLen, padding='post')"
   ]
  },
  {
   "cell_type": "code",
   "execution_count": 117,
   "metadata": {},
   "outputs": [],
   "source": [
    "Y_test_int = np.array(list(map(int, Y_test)))\n",
    "Y_test_hot = np_utils.to_categorical(Y_test_int)"
   ]
  },
  {
   "cell_type": "code",
   "execution_count": 118,
   "metadata": {
    "colab": {
     "base_uri": "https://localhost:8080/"
    },
    "id": "_-Y5fW-xszbc",
    "outputId": "19901712-3f09-4328-9f5f-9c82498fd97b"
   },
   "outputs": [
    {
     "name": "stdout",
     "output_type": "stream",
     "text": [
      "1563/1563 [==============================] - 51s 32ms/step - loss: 2.5744 - accuracy: 0.2485\n"
     ]
    },
    {
     "data": {
      "text/plain": [
       "[2.5743672847747803, 0.248539999127388]"
      ]
     },
     "execution_count": 118,
     "metadata": {},
     "output_type": "execute_result"
    }
   ],
   "source": [
    "model.evaluate(X_test_indices, Y_test_hot)"
   ]
  },
  {
   "cell_type": "code",
   "execution_count": 127,
   "metadata": {},
   "outputs": [
    {
     "data": {
      "text/plain": [
       "array([0.4056255 , 0.        , 0.28767123, 0.        , 0.23489933,\n",
       "       0.        , 0.        , 0.        , 0.        , 0.        ,\n",
       "       0.08041775, 0.01212121, 0.        , 0.        , 0.        ,\n",
       "       0.        , 0.        , 0.01027617, 0.        , 0.        ])"
      ]
     },
     "execution_count": 127,
     "metadata": {},
     "output_type": "execute_result"
    }
   ],
   "source": [
    "# preds = model.predict(X_test_indices);\n",
    "predicted_classes = np.argmax(preds, axis=1)\n",
    "f1_score(Y_test_int, predicted_classes, average=None)\n"
   ]
  },
  {
   "cell_type": "code",
   "execution_count": 124,
   "metadata": {},
   "outputs": [],
   "source": [
    "# Creating dictionary for some emoji's, consisting of key - number and value - emoji \n",
    "emoji_dict = { 0 : \":red_heart:\", 1 : \":heart_eyes:\", 2 : \":joy:\", 3 : \":two_hearts:\", 4 : \":fire:\", 5: \":blush:\", 6: \":sunglasses:\",\n",
    "             7: \":sparkles:\", 8: \":blue_heart:\", 9: \":kissing_heart:\", 10: \":camera:\", 11: \":us:\", 12: \":sunny:\", 13: \":purple_heart:\",\n",
    "             14: \":wink:\", 15: \":100:\", 16: \":grin:\", 17: \":christmas_tree:\", 18: \"📸\", 19: \":stuck_out_tongue_winking_eye:\"}\n",
    "\n",
    "# Printing each emoji icon by emojizing each emoji\n",
    "# for ix in emoji_dict.keys():\n",
    "#     print (ix,end=\" \")\n",
    "#     print (emoji.emojize(emoji_dict[ix], use_aliases=True, variant=\"emoji_type\"))"
   ]
  },
  {
   "cell_type": "code",
   "execution_count": 128,
   "metadata": {},
   "outputs": [],
   "source": [
    "# Printing the sentences with the predicted and labled emoji\n",
    "# for ix in range(X_test_indices.shape[0]):\n",
    "#     if (emoji.emojize(emoji_dict[predicted_classes[ix]], use_aliases=True) == emoji.emojize(emoji_dict[Y_test_int[ix]], use_aliases=True)):\n",
    "#         print (emoji.emojize(emoji_dict[predicted_classes[ix]], use_aliases=True),end=\" \")\n",
    "#         print (emoji.emojize(emoji_dict[Y_test_int[ix]], use_aliases=True))"
   ]
  },
  {
   "cell_type": "code",
   "execution_count": 130,
   "metadata": {},
   "outputs": [],
   "source": [
    "model.save_weights('./model_lstm_weights.hdf5')"
   ]
  },
  {
   "cell_type": "code",
   "execution_count": null,
   "metadata": {},
   "outputs": [],
   "source": []
  }
 ],
 "metadata": {
  "colab": {
   "authorship_tag": "ABX9TyN8YROakXxrOb1n93WZscH7",
   "mount_file_id": "1C5dKYAPz6GdYTLQLWAFzi4QcrKVO2o8A",
   "name": "IMDb_Movie_Sentiment_Analysis.ipynb",
   "provenance": []
  },
  "kernelspec": {
   "display_name": "Python 3",
   "language": "python",
   "name": "python3"
  },
  "language_info": {
   "codemirror_mode": {
    "name": "ipython",
    "version": 3
   },
   "file_extension": ".py",
   "mimetype": "text/x-python",
   "name": "python",
   "nbconvert_exporter": "python",
   "pygments_lexer": "ipython3",
   "version": "3.7.9"
  }
 },
 "nbformat": 4,
 "nbformat_minor": 1
}
