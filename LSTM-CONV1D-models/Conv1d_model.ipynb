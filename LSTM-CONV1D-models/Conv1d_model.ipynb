{
 "cells": [
  {
   "cell_type": "code",
   "execution_count": 2,
   "metadata": {},
   "outputs": [],
   "source": [
    "import pandas as pd\n",
    "import numpy as np\n",
    "from keras.layers import LSTM, Activation, Dropout, Dense, Input, Conv1D, MaxPooling1D, GlobalMaxPooling1D\n",
    "from keras.layers.embeddings import Embedding\n",
    "from keras.models import Model\n",
    "from keras.utils import np_utils\n",
    "import string\n",
    "import re\n",
    "from keras.preprocessing.text import Tokenizer\n",
    "from sklearn.preprocessing import LabelBinarizer\n",
    "from keras.preprocessing.sequence import pad_sequences\n",
    "import keras\n",
    "import emoji\n",
    "from sklearn.metrics import f1_score\n"
   ]
  },
  {
   "cell_type": "code",
   "execution_count": 3,
   "metadata": {},
   "outputs": [],
   "source": [
    "featFile = open('train_tweets_us_all.text', \"r\", encoding=\"utf-8\");\n",
    "labelFile = open('train_tweets_us_all.labels', \"r\", encoding=\"utf-8\");\n",
    "\n",
    "testFeat = open('us_test.text', \"r\", encoding=\"utf-8\");\n",
    "testLabel = open('us_test.labels', \"r\", encoding=\"utf-8\");\n",
    "\n",
    "validationFeat = open('us_trial.text', \"r\", encoding=\"utf-8\");\n",
    "validationLabel = open('us_trial.labels', \"r\", encoding=\"utf-8\");\n",
    "\n",
    "X_train = featFile.readlines();\n",
    "Y_train = labelFile.readlines();\n",
    "\n",
    "X_test = testFeat.readlines();\n",
    "Y_test = testLabel.readlines();\n",
    "\n",
    "X_valid = validationFeat.readlines();\n",
    "Y_valid = validationLabel.readlines();"
   ]
  },
  {
   "cell_type": "code",
   "execution_count": 4,
   "metadata": {},
   "outputs": [
    {
     "data": {
      "text/plain": [
       "297422"
      ]
     },
     "execution_count": 4,
     "metadata": {},
     "output_type": "execute_result"
    }
   ],
   "source": [
    "tokenizer = Tokenizer(num_words=5000)\n",
    "tokenizer.fit_on_texts(X_train)\n",
    "words_to_index = tokenizer.word_index\n",
    "len(words_to_index)"
   ]
  },
  {
   "cell_type": "code",
   "execution_count": 5,
   "metadata": {},
   "outputs": [],
   "source": [
    "def read_glove_vector(glove_vec):\n",
    "    with open(glove_vec, 'r', encoding='UTF-8') as f:\n",
    "        words = set()\n",
    "        word_to_vec_map = {}\n",
    "        for line in f:\n",
    "            w_line = line.split()\n",
    "            curr_word = w_line[0]\n",
    "            word_to_vec_map[curr_word] = np.array(w_line[1:], dtype=np.float64)\n",
    "\n",
    "\n",
    "    return word_to_vec_map"
   ]
  },
  {
   "cell_type": "code",
   "execution_count": 6,
   "metadata": {},
   "outputs": [],
   "source": [
    "word_to_vec_map = read_glove_vector('./glove.6B.50d.txt')"
   ]
  },
  {
   "cell_type": "code",
   "execution_count": 7,
   "metadata": {},
   "outputs": [],
   "source": [
    "maxLen = 50"
   ]
  },
  {
   "cell_type": "code",
   "execution_count": 8,
   "metadata": {},
   "outputs": [],
   "source": [
    "vocab_len = len(words_to_index)\n",
    "embed_vector_len = word_to_vec_map['moon'].shape[0]\n",
    "\n",
    "emb_matrix = np.zeros((vocab_len, embed_vector_len))\n",
    "\n",
    "for word, index in words_to_index.items():\n",
    "    embedding_vector = word_to_vec_map.get(word)\n",
    "    if embedding_vector is not None:\n",
    "        emb_matrix[index, :] = embedding_vector\n",
    "\n",
    "embedding_layer = Embedding(input_dim=vocab_len, output_dim=embed_vector_len, input_length=maxLen, weights = [emb_matrix], trainable=False)"
   ]
  },
  {
   "cell_type": "code",
   "execution_count": 9,
   "metadata": {},
   "outputs": [],
   "source": [
    "def conv1d_model(input_shape):\n",
    "\n",
    "    X_indices = Input(input_shape)\n",
    "\n",
    "    embeddings = embedding_layer(X_indices)\n",
    "\n",
    "    X = Conv1D(512,1,activation='relu')(embeddings)\n",
    "\n",
    "    X = MaxPooling1D(1)(X)\n",
    "\n",
    "    X = Conv1D(256,3,activation='relu')(X)\n",
    "\n",
    "    X = MaxPooling1D(3)(X)\n",
    "\n",
    "    X = Conv1D(256,3,activation='relu')(X)\n",
    "    X = Dropout(0.8)(X)\n",
    "    X = MaxPooling1D(3)(X)\n",
    "\n",
    "    X = GlobalMaxPooling1D()(X)\n",
    "\n",
    "    X = Dense(256, activation='relu')(X)\n",
    "    X = Dense(20, activation='sigmoid')(X)\n",
    "\n",
    "    model = Model(inputs=X_indices, outputs=X)\n",
    "\n",
    "    return model"
   ]
  },
  {
   "cell_type": "code",
   "execution_count": 10,
   "metadata": {},
   "outputs": [
    {
     "name": "stdout",
     "output_type": "stream",
     "text": [
      "Model: \"model\"\n",
      "_________________________________________________________________\n",
      "Layer (type)                 Output Shape              Param #   \n",
      "=================================================================\n",
      "input_1 (InputLayer)         [(None, 50)]              0         \n",
      "_________________________________________________________________\n",
      "embedding (Embedding)        (None, 50, 50)            14871100  \n",
      "_________________________________________________________________\n",
      "conv1d (Conv1D)              (None, 50, 512)           26112     \n",
      "_________________________________________________________________\n",
      "max_pooling1d (MaxPooling1D) (None, 50, 512)           0         \n",
      "_________________________________________________________________\n",
      "conv1d_1 (Conv1D)            (None, 48, 256)           393472    \n",
      "_________________________________________________________________\n",
      "max_pooling1d_1 (MaxPooling1 (None, 16, 256)           0         \n",
      "_________________________________________________________________\n",
      "conv1d_2 (Conv1D)            (None, 14, 256)           196864    \n",
      "_________________________________________________________________\n",
      "dropout (Dropout)            (None, 14, 256)           0         \n",
      "_________________________________________________________________\n",
      "max_pooling1d_2 (MaxPooling1 (None, 4, 256)            0         \n",
      "_________________________________________________________________\n",
      "global_max_pooling1d (Global (None, 256)               0         \n",
      "_________________________________________________________________\n",
      "dense (Dense)                (None, 256)               65792     \n",
      "_________________________________________________________________\n",
      "dense_1 (Dense)              (None, 20)                5140      \n",
      "=================================================================\n",
      "Total params: 15,558,480\n",
      "Trainable params: 687,380\n",
      "Non-trainable params: 14,871,100\n",
      "_________________________________________________________________\n"
     ]
    }
   ],
   "source": [
    "model_1d = conv1d_model((maxLen,))\n",
    "model_1d.summary()"
   ]
  },
  {
   "cell_type": "code",
   "execution_count": 11,
   "metadata": {},
   "outputs": [],
   "source": [
    "adam = keras.optimizers.Adam(learning_rate = 0.0001)\n",
    "model_1d.compile(optimizer=adam, loss='categorical_crossentropy', metrics=['accuracy'])"
   ]
  },
  {
   "cell_type": "code",
   "execution_count": 12,
   "metadata": {},
   "outputs": [
    {
     "data": {
      "text/plain": [
       "(405987, 50)"
      ]
     },
     "execution_count": 12,
     "metadata": {},
     "output_type": "execute_result"
    }
   ],
   "source": [
    "X_train_indices = tokenizer.texts_to_sequences(X_train)\n",
    "X_train_indices = pad_sequences(X_train_indices, maxlen=maxLen, padding='post')\n",
    "X_train_indices.shape"
   ]
  },
  {
   "cell_type": "code",
   "execution_count": 13,
   "metadata": {},
   "outputs": [],
   "source": [
    "Y_train_int = np.array(list(map(int, Y_train)))\n",
    "Y_train_hot = np_utils.to_categorical(Y_train_int)"
   ]
  },
  {
   "cell_type": "code",
   "execution_count": 14,
   "metadata": {},
   "outputs": [
    {
     "name": "stdout",
     "output_type": "stream",
     "text": [
      "397/397 [==============================] - 478s 1s/step - loss: 2.6878 - accuracy: 0.2246\n"
     ]
    },
    {
     "data": {
      "text/plain": [
       "<tensorflow.python.keras.callbacks.History at 0x26290aec6c8>"
      ]
     },
     "execution_count": 14,
     "metadata": {},
     "output_type": "execute_result"
    }
   ],
   "source": [
    "model_1d.fit(X_train_indices, Y_train_hot, batch_size=1024, epochs=1)"
   ]
  },
  {
   "cell_type": "code",
   "execution_count": 15,
   "metadata": {},
   "outputs": [
    {
     "data": {
      "text/plain": [
       "(50000, 50)"
      ]
     },
     "execution_count": 15,
     "metadata": {},
     "output_type": "execute_result"
    }
   ],
   "source": [
    "X_test_indices = tokenizer.texts_to_sequences(X_test)\n",
    "X_test_indices = pad_sequences(X_test_indices, maxlen=maxLen, padding='post')\n",
    "X_test_indices.shape"
   ]
  },
  {
   "cell_type": "code",
   "execution_count": 16,
   "metadata": {},
   "outputs": [],
   "source": [
    "Y_test_int = np.array(list(map(int, Y_test)))\n",
    "Y_test_hot = np_utils.to_categorical(Y_test_int)"
   ]
  },
  {
   "cell_type": "code",
   "execution_count": 17,
   "metadata": {},
   "outputs": [
    {
     "name": "stdout",
     "output_type": "stream",
     "text": [
      "1563/1563 [==============================] - 14s 9ms/step - loss: 2.5650 - accuracy: 0.2885\n"
     ]
    },
    {
     "data": {
      "text/plain": [
       "[2.5649657249450684, 0.2885400056838989]"
      ]
     },
     "execution_count": 17,
     "metadata": {},
     "output_type": "execute_result"
    }
   ],
   "source": [
    "model_1d.evaluate(X_test_indices, Y_test_hot)"
   ]
  },
  {
   "cell_type": "code",
   "execution_count": 19,
   "metadata": {},
   "outputs": [
    {
     "data": {
      "text/plain": [
       "array([0.59345605, 0.21189411, 0.2903927 , 0.14310714, 0.23725313,\n",
       "       0.01674107, 0.00963391, 0.00217155, 0.        , 0.        ,\n",
       "       0.17073171, 0.1377513 , 0.31342651, 0.        , 0.        ,\n",
       "       0.        , 0.        , 0.32211538, 0.00082508, 0.        ])"
      ]
     },
     "execution_count": 19,
     "metadata": {},
     "output_type": "execute_result"
    }
   ],
   "source": [
    "preds = model_1d.predict(X_test_indices);\n",
    "predicted_classes = np.argmax(preds, axis=1)\n",
    "f1_score(Y_test_int, predicted_classes, average=None)"
   ]
  },
  {
   "cell_type": "code",
   "execution_count": 20,
   "metadata": {},
   "outputs": [],
   "source": [
    "# Creating dictionary for some emoji's, consisting of key - number and value - emoji \n",
    "emoji_dict = { 0 : \":red_heart:\", 1 : \":heart_eyes:\", 2 : \":joy:\", 3 : \":two_hearts:\", 4 : \":fire:\", 5: \":blush:\", 6: \":sunglasses:\",\n",
    "             7: \":sparkles:\", 8: \":blue_heart:\", 9: \":kissing_heart:\", 10: \":camera:\", 11: \":us:\", 12: \":sunny:\", 13: \":purple_heart:\",\n",
    "             14: \":wink:\", 15: \":100:\", 16: \":grin:\", 17: \":christmas_tree:\", 18: \"📸\", 19: \":stuck_out_tongue_winking_eye:\"}\n",
    "\n",
    "# Printing each emoji icon by emojizing each emoji\n",
    "# for ix in emoji_dict.keys():\n",
    "#     print (ix,end=\" \")\n",
    "#     print (emoji.emojize(emoji_dict[ix], use_aliases=True, variant=\"emoji_type\"))"
   ]
  },
  {
   "cell_type": "code",
   "execution_count": 21,
   "metadata": {},
   "outputs": [],
   "source": [
    "# Printing the sentences only with correct predicted emoji\n",
    "# for ix in range(X_test_indices.shape[0]):\n",
    "#     if (emoji.emojize(emoji_dict[predicted_classes[ix]], use_aliases=True) == emoji.emojize(emoji_dict[Y_test_int[ix]], use_aliases=True)):\n",
    "#         print (emoji.emojize(emoji_dict[predicted_classes[ix]], use_aliases=True),end=\" \")\n",
    "#         print (emoji.emojize(emoji_dict[Y_test_int[ix]], use_aliases=True))"
   ]
  },
  {
   "cell_type": "code",
   "execution_count": 22,
   "metadata": {},
   "outputs": [],
   "source": [
    "model_1d.save_weights('./model_con1vd_weights.hdf5')"
   ]
  },
  {
   "cell_type": "code",
   "execution_count": null,
   "metadata": {},
   "outputs": [],
   "source": []
  }
 ],
 "metadata": {
  "kernelspec": {
   "display_name": "Python 3",
   "language": "python",
   "name": "python3"
  },
  "language_info": {
   "codemirror_mode": {
    "name": "ipython",
    "version": 3
   },
   "file_extension": ".py",
   "mimetype": "text/x-python",
   "name": "python",
   "nbconvert_exporter": "python",
   "pygments_lexer": "ipython3",
   "version": "3.7.9"
  }
 },
 "nbformat": 4,
 "nbformat_minor": 4
}
